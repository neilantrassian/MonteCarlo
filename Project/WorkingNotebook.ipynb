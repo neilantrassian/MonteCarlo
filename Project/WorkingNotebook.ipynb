{
 "cells": [
  {
   "cell_type": "markdown",
   "id": "84333dea-8857-45f4-b482-0ce953f1d9bc",
   "metadata": {},
   "source": [
    "# Die Class"
   ]
  },
  {
   "cell_type": "code",
   "execution_count": 1,
   "id": "a04fc777-7106-4e96-94a8-36c69cf94191",
   "metadata": {},
   "outputs": [],
   "source": [
    "import pandas as pd\n",
    "import numpy as np"
   ]
  },
  {
   "cell_type": "code",
   "execution_count": 150,
   "id": "1cbf7e75-58ce-447c-b15e-25cb5611b80d",
   "metadata": {},
   "outputs": [],
   "source": [
    "class Die:\n",
    "    \n",
    "\n",
    "    def __init__(self, faces_array):\n",
    "        self.faces_array = faces_array\n",
    "        if not isinstance(self.faces_array[0], (int, str)):\n",
    "            raise TypeError(\"Only integers or string are allowed\")\n",
    "        else:\n",
    "            self.weights = np.ones(len(faces_array))\n",
    "            self.weight_face = pd.DataFrame({'face' : faces_array, 'weights' : self.weights})\n",
    "            self.weight_face.index +=1\n",
    "    def change_weight(self, face_value, new_weight):\n",
    "        self.face_value = face_value\n",
    "        self.new_weight = new_weight\n",
    "        if self.face_value not in self.faces_array:\n",
    "            raise ValueError(\"Only values in faces array can have their weights changed\")\n",
    "        else:\n",
    "            self.weights[face_value] = new_weight\n",
    "            self.weight_face['weights'] = self.weights\n",
    "    def roll_die(self, num_roll = 1):\n",
    "        if not isinstance(num_roll, int):\n",
    "            raise TypeError(\"Only integers are allowed\")\n",
    "        else:\n",
    "            df = self.weight_face.sample(num_roll, replace =True, weights = 'weights')\n",
    "            return df['face'].tolist()\n",
    "    def current_die(self):\n",
    "        return self.weight_face\n",
    "    \n",
    "    "
   ]
  },
  {
   "cell_type": "code",
   "execution_count": 211,
   "id": "f4c34b25-7857-4a7a-b1a3-c778f2eb7757",
   "metadata": {},
   "outputs": [
    {
     "data": {
      "text/plain": [
       "[5, 5, 5, 5, 5]"
      ]
     },
     "execution_count": 211,
     "metadata": {},
     "output_type": "execute_result"
    }
   ],
   "source": [
    "\n",
    "b = Die([1,2,3,4,5,6])\n",
    "b.change_weight(4, 200)\n",
    "b.roll_die(5)"
   ]
  },
  {
   "cell_type": "code",
   "execution_count": null,
   "id": "2c6114de-01dd-47e6-acae-edd3bd388123",
   "metadata": {},
   "outputs": [],
   "source": []
  },
  {
   "cell_type": "code",
   "execution_count": 116,
   "id": "8c579dfe-3ba1-4f6a-8218-c701c562aeb8",
   "metadata": {},
   "outputs": [
    {
     "data": {
      "text/plain": [
       "4"
      ]
     },
     "execution_count": 116,
     "metadata": {},
     "output_type": "execute_result"
    }
   ],
   "source": [
    "len(d.roll_die(4))"
   ]
  },
  {
   "cell_type": "code",
   "execution_count": 113,
   "id": "91356ee9-d128-4b9d-9eee-210e54a5b55d",
   "metadata": {},
   "outputs": [
    {
     "data": {
      "text/plain": [
       "{'face': {1: 1, 2: 2, 3: 3}, 'weights': {1: 1.0, 2: 1.0, 3: 200.0}}"
      ]
     },
     "execution_count": 113,
     "metadata": {},
     "output_type": "execute_result"
    }
   ],
   "source": [
    "d.current_die().to_dict()"
   ]
  },
  {
   "cell_type": "code",
   "execution_count": 114,
   "id": "e2bb0daa-2d54-40db-8f67-09f04238a7f9",
   "metadata": {},
   "outputs": [
    {
     "data": {
      "text/plain": [
       "{'face': {1: 1, 2: 2, 3: 3}, 'weights': {1: 1.0, 2: 1.0, 3: 200.0}}"
      ]
     },
     "execution_count": 114,
     "metadata": {},
     "output_type": "execute_result"
    }
   ],
   "source": [
    "make_dict = {'face' : {1:1, 2:2, 3:3}, 'weights' :{1: 1.0, 2:1.0, 3: 200.0}}\n",
    "make_dict"
   ]
  },
  {
   "cell_type": "markdown",
   "id": "50d7792d-6bf9-4951-99f9-4585ba67ab03",
   "metadata": {},
   "source": [
    "# Game Class"
   ]
  },
  {
   "cell_type": "code",
   "execution_count": 208,
   "id": "1352f33e-2c0d-4f57-9109-b33c1f28c65d",
   "metadata": {},
   "outputs": [],
   "source": [
    "import pandas as pd\n",
    "import numpy as np\n",
    "class Game:\n",
    "    def __init__(self, die_list):\n",
    "        self.die_list = die_list\n",
    "        if not isinstance(self.die_list[0], (Die)):\n",
    "            raise TypeError(\"Only die objects are allowed\")\n",
    "        else:\n",
    "            self.die_list = die_list                       \n",
    "                          \n",
    "    def play(self, num_rolls):\n",
    "        ''' rolls each die in die_list num_rolls times\n",
    "        n rolls by m dice '''\n",
    "        self.num_rolls = num_rolls\n",
    "        self.dice_rolls = [i.roll_die(self.num_rolls) for i in self.die_list]\n",
    "        self.__play_df = pd.DataFrame(self.dice_rolls)\n",
    "        self.__play_df.index +=1\n",
    "        self.__play_df.columns +=1\n",
    "        return None\n",
    "    def show_play(self, wide = True):\n",
    "        self.wide = wide\n",
    "        if self.wide == False:\n",
    "            return self.__play_df.T.stack().to_frame()   \n",
    "        else:\n",
    "            return self.__play_df\n",
    "        "
   ]
  },
  {
   "cell_type": "code",
   "execution_count": 209,
   "id": "7d04da5e-46c4-4d50-8c05-829fc9fafae8",
   "metadata": {},
   "outputs": [
    {
     "ename": "TypeError",
     "evalue": "Only die objects are allowed",
     "output_type": "error",
     "traceback": [
      "\u001b[0;31m---------------------------------------------------------------------------\u001b[0m",
      "\u001b[0;31mTypeError\u001b[0m                                 Traceback (most recent call last)",
      "Input \u001b[0;32mIn [209]\u001b[0m, in \u001b[0;36m<cell line: 1>\u001b[0;34m()\u001b[0m\n\u001b[0;32m----> 1\u001b[0m dice \u001b[38;5;241m=\u001b[39m \u001b[43mGame\u001b[49m\u001b[43m(\u001b[49m\u001b[43m[\u001b[49m\u001b[38;5;241;43m7\u001b[39;49m\u001b[43m,\u001b[49m\u001b[43m \u001b[49m\u001b[43mb\u001b[49m\u001b[43m,\u001b[49m\u001b[43m \u001b[49m\u001b[43mc\u001b[49m\u001b[43m]\u001b[49m\u001b[43m)\u001b[49m\n\u001b[1;32m      2\u001b[0m dice\u001b[38;5;241m.\u001b[39mplay(\u001b[38;5;241m9\u001b[39m)\n\u001b[1;32m      3\u001b[0m ser \u001b[38;5;241m=\u001b[39m pd\u001b[38;5;241m.\u001b[39mSeries(dice\u001b[38;5;241m.\u001b[39mdie_list)\n",
      "Input \u001b[0;32mIn [208]\u001b[0m, in \u001b[0;36mGame.__init__\u001b[0;34m(self, die_list)\u001b[0m\n\u001b[1;32m      5\u001b[0m \u001b[38;5;28mself\u001b[39m\u001b[38;5;241m.\u001b[39mdie_list \u001b[38;5;241m=\u001b[39m die_list\n\u001b[1;32m      6\u001b[0m \u001b[38;5;28;01mif\u001b[39;00m \u001b[38;5;129;01mnot\u001b[39;00m \u001b[38;5;28misinstance\u001b[39m(\u001b[38;5;28mself\u001b[39m\u001b[38;5;241m.\u001b[39mdie_list[\u001b[38;5;241m0\u001b[39m], (Die)):\n\u001b[0;32m----> 7\u001b[0m     \u001b[38;5;28;01mraise\u001b[39;00m \u001b[38;5;167;01mTypeError\u001b[39;00m(\u001b[38;5;124m\"\u001b[39m\u001b[38;5;124mOnly die objects are allowed\u001b[39m\u001b[38;5;124m\"\u001b[39m)\n\u001b[1;32m      8\u001b[0m \u001b[38;5;28;01melse\u001b[39;00m:\n\u001b[1;32m      9\u001b[0m     \u001b[38;5;28mself\u001b[39m\u001b[38;5;241m.\u001b[39mdie_list \u001b[38;5;241m=\u001b[39m die_list\n",
      "\u001b[0;31mTypeError\u001b[0m: Only die objects are allowed"
     ]
    }
   ],
   "source": [
    "dice = Game([7, b, c])\n",
    "dice.play(9)\n",
    "ser = pd.Series(dice.die_list)\n",
    "ser.dtypes"
   ]
  },
  {
   "cell_type": "markdown",
   "id": "d4c87930-8c4f-423c-9f13-5dc50cbbbe44",
   "metadata": {},
   "source": [
    "# Analyzer Class"
   ]
  },
  {
   "cell_type": "code",
   "execution_count": 140,
   "id": "1f891514-f136-467e-ae1a-d2f2891f19fc",
   "metadata": {},
   "outputs": [],
   "source": [
    "class Analyzer:\n",
    "    combo = pd.DataFrame([])\n",
    "    def __init__(self, game_object):\n",
    "        self.game_object = game_object\n",
    "\n",
    "    def jackpot(self):\n",
    "        df = self.game_object.show_play().T\n",
    "        a = df.values\n",
    "        b = (a == a[:, [0]]).all(axis=1)\n",
    "        count = np.count_nonzero(b)\n",
    "        return count\n",
    "    def combo(self):\n",
    "        self._result = self.game_object.show_play().T\n",
    "        self.combo = self._result.apply(lambda x: pd.Series(sorted(x)), 1).value_counts().to_frame('n')\n",
    "        return self.combo\n",
    "    \n",
    "    def face_counts(self):\n",
    "        self._result = self.game_object.show_play().T\n",
    "        self.face_counts = self._result.apply(pd.Series.value_counts, axis=1).fillna(0)\n",
    "        return self.face_counts.astype(int)\n",
    "                    "
   ]
  },
  {
   "cell_type": "code",
   "execution_count": 141,
   "id": "7ab67ed9-f4af-4393-8c0e-a692ae931a4f",
   "metadata": {},
   "outputs": [
    {
     "data": {
      "text/plain": [
       "0"
      ]
     },
     "execution_count": 141,
     "metadata": {},
     "output_type": "execute_result"
    }
   ],
   "source": [
    "analysis = Analyzer(dice)\n",
    "analysis.jackpot()"
   ]
  },
  {
   "cell_type": "markdown",
   "id": "1eb762a2-ff94-4c85-b845-88d0db9e2194",
   "metadata": {},
   "source": [
    "# Scenario 1"
   ]
  },
  {
   "cell_type": "code",
   "execution_count": 11,
   "id": "bda3b88d-ecbb-452a-9c28-09770aeb6f99",
   "metadata": {},
   "outputs": [],
   "source": [
    "fair = Die([1,2])\n",
    "unfair = Die([1,2])\n",
    "unfair.change_weight(1, 5)"
   ]
  },
  {
   "cell_type": "code",
   "execution_count": 12,
   "id": "4c9b1a57-f681-4e11-aea1-e79e269eb83e",
   "metadata": {},
   "outputs": [],
   "source": [
    "fair_coins = Game([fair, fair, fair])\n",
    "unfair_coins = Game([unfair, unfair, fair])\n",
    "\n",
    "fair_coins.play(1000)\n",
    "unfair_coins.play(1000)\n",
    "\n",
    "analyze_fair = Analyzer(fair_coins)\n",
    "analyze_unfair = Analyzer(unfair_coins)"
   ]
  },
  {
   "cell_type": "code",
   "execution_count": 13,
   "id": "5a1cf7e3-6727-49ad-8e8e-c32db0bd718b",
   "metadata": {},
   "outputs": [],
   "source": [
    "jack_fair = analyze_fair.jackpot() / 1000\n",
    "jack_unfair = analyze_unfair.jackpot() / 1000\n",
    "freq_df = pd.DataFrame({'jackpot frequencies': ['fair frequency','unfair frequency'],'val': [jack_fair, jack_unfair]})\n"
   ]
  },
  {
   "cell_type": "code",
   "execution_count": 14,
   "id": "cca25c0e-fd2e-4fc1-9419-4bd97953cdf1",
   "metadata": {},
   "outputs": [
    {
     "data": {
      "image/png": "[encoded data removed]",
      "text/plain": [
       "<Figure size 432x288 with 1 Axes>"
      ]
     },
     "metadata": {
      "needs_background": "light"
     },
     "output_type": "display_data"
    }
   ],
   "source": [
    "ax = freq_df.plot.bar(x = 'jackpot frequencies', y = 'val', rot = 0)"
   ]
  },
  {
   "cell_type": "markdown",
   "id": "5594276c-f63f-4913-b118-30e8525eb49f",
   "metadata": {},
   "source": [
    "# Scenario 2"
   ]
  },
  {
   "cell_type": "code",
   "execution_count": 15,
   "id": "3a76c93b-9506-4540-80b8-7ccd2af1a1af",
   "metadata": {},
   "outputs": [],
   "source": [
    "fair_die = Die([1,2,3,4,5,6])\n",
    "unfair_die_1 = Die([1,2,3,4,5,6])\n",
    "unfair_die_2 = Die([1,2,3,4,5,6])\n",
    "unfair_die_1.change_weight(5, 5)\n",
    "unfair_die_2.change_weight(0, 5)"
   ]
  },
  {
   "cell_type": "code",
   "execution_count": 16,
   "id": "c5269479-90fb-4889-84ee-b23b3aeabe2b",
   "metadata": {},
   "outputs": [],
   "source": [
    "fair_game = Game([fair_die, fair_die, fair_die, fair_die, fair_die])\n",
    "unfair_game = Game([unfair_die_1, unfair_die_1, unfair_die_2, fair_die, fair_die])"
   ]
  },
  {
   "cell_type": "code",
   "execution_count": 17,
   "id": "2cf7bded-90c1-4715-9001-fc89a0af8d5d",
   "metadata": {},
   "outputs": [
    {
     "data": {
      "image/png": "[encoded data removed]",
      "text/plain": [
       "<Figure size 432x288 with 1 Axes>"
      ]
     },
     "metadata": {
      "needs_background": "light"
     },
     "output_type": "display_data"
    },
    {
     "data": {
      "image/png": "[encoded data removed]",
      "text/plain": [
       "<Figure size 432x288 with 1 Axes>"
      ]
     },
     "metadata": {
      "needs_background": "light"
     },
     "output_type": "display_data"
    }
   ],
   "source": [
    "fair_game.play(10000)\n",
    "unfair_game.play(10000)\n",
    "analyze_fair_die = Analyzer(fair_game)\n",
    "analyze_unfair_die = Analyzer(unfair_game)\n",
    "\n",
    "jack_fair_die = analyze_fair_die.jackpot() / 1000\n",
    "jack_unfair_die = analyze_unfair_die.jackpot() / 1000\n",
    "freq_die_df = pd.DataFrame({'jackpot frequencies': ['fair frequency','unfair frequency'],'val': [jack_fair_die, jack_unfair_die]})\n",
    "\n",
    "fair1 = analyze_fair_die.combo().head(10)\n",
    "unfair1 =analyze_unfair_die.combo().head(10)\n",
    "\n",
    "plot1 = fair1.plot.bar(y = 'n', use_index = True, title = 'fair die game')\n",
    "plot2 = unfair1.plot.bar(y = 'n', use_index = True, title = 'unfair die game')"
   ]
  },
  {
   "cell_type": "code",
   "execution_count": 18,
   "id": "5ed96e81-05f0-4cda-961e-b7b429805f4e",
   "metadata": {},
   "outputs": [
    {
     "data": {
      "image/png": "[encoded data removed]",
      "text/plain": [
       "<Figure size 432x288 with 1 Axes>"
      ]
     },
     "metadata": {
      "needs_background": "light"
     },
     "output_type": "display_data"
    }
   ],
   "source": [
    "ax2 = freq_die_df.plot.bar(x = 'jackpot frequencies', y = 'val', rot = 0)"
   ]
  },
  {
   "cell_type": "markdown",
   "id": "462a6c66-5f9b-4825-b635-a978c6aa6be4",
   "metadata": {},
   "source": [
    "# Scenario 3"
   ]
  },
  {
   "cell_type": "code",
   "execution_count": 94,
   "id": "cc6e579d-7804-46a1-b8c7-0a302ba494c4",
   "metadata": {},
   "outputs": [],
   "source": [
    "alphabet = ('A', 'B', 'C', 'D', 'E', 'F', 'G', 'H', 'I', 'J', 'K', 'L', 'M', 'N', 'O', 'P', 'Q', 'R', 'S', 'T', 'U', 'V', 'W', 'X', 'Y', 'Z')\n",
    "alpha_weights = [8.4966,2.0720,4.5388,3.3844,11.1607\n",
    ",1.8121,2.4705,3.0034,7.5448,0.1965,1.1016,5.4893\n",
    ",3.0129,6.6544,7.1635,3.1671,0.1962,7.5809,5.7351,6.9509\n",
    ",3.6308,1.0074,1.2899,0.2902,1.7779,0.2722]\n",
    "alpha1 = Die(alphabet)\n",
    "alpha1.weight_face['weights'] = alpha_weights\n",
    "alpha2 = Die(alphabet)\n",
    "alpha2.weight_face['weights'] = alpha_weights\n",
    "alpha3= Die(alphabet)\n",
    "alpha3.weight_face['weights'] = alpha_weights\n",
    "alpha4 = Die(alphabet)\n",
    "alpha4.weight_face['weights'] = alpha_weights\n",
    "alpha5 = Die(alphabet)\n",
    "alpha5.weight_face['weights'] = alpha_weights\n",
    "\n"
   ]
  },
  {
   "cell_type": "code",
   "execution_count": 97,
   "id": "d0bb13e8-97d5-48d0-8283-802442abb5f3",
   "metadata": {},
   "outputs": [
    {
     "data": {
      "text/html": [
       "<div>\n",
       "<style scoped>\n",
       "    .dataframe tbody tr th:only-of-type {\n",
       "        vertical-align: middle;\n",
       "    }\n",
       "\n",
       "    .dataframe tbody tr th {\n",
       "        vertical-align: top;\n",
       "    }\n",
       "\n",
       "    .dataframe thead th {\n",
       "        text-align: right;\n",
       "    }\n",
       "</style>\n",
       "<table border=\"1\" class=\"dataframe\">\n",
       "  <thead>\n",
       "    <tr style=\"text-align: right;\">\n",
       "      <th></th>\n",
       "      <th>1</th>\n",
       "      <th>2</th>\n",
       "      <th>3</th>\n",
       "      <th>4</th>\n",
       "      <th>5</th>\n",
       "      <th>6</th>\n",
       "      <th>7</th>\n",
       "      <th>8</th>\n",
       "      <th>9</th>\n",
       "      <th>10</th>\n",
       "      <th>...</th>\n",
       "      <th>991</th>\n",
       "      <th>992</th>\n",
       "      <th>993</th>\n",
       "      <th>994</th>\n",
       "      <th>995</th>\n",
       "      <th>996</th>\n",
       "      <th>997</th>\n",
       "      <th>998</th>\n",
       "      <th>999</th>\n",
       "      <th>1000</th>\n",
       "    </tr>\n",
       "  </thead>\n",
       "  <tbody>\n",
       "    <tr>\n",
       "      <th>1</th>\n",
       "      <td>U</td>\n",
       "      <td>Z</td>\n",
       "      <td>L</td>\n",
       "      <td>A</td>\n",
       "      <td>P</td>\n",
       "      <td>P</td>\n",
       "      <td>A</td>\n",
       "      <td>O</td>\n",
       "      <td>N</td>\n",
       "      <td>A</td>\n",
       "      <td>...</td>\n",
       "      <td>P</td>\n",
       "      <td>R</td>\n",
       "      <td>R</td>\n",
       "      <td>E</td>\n",
       "      <td>D</td>\n",
       "      <td>T</td>\n",
       "      <td>E</td>\n",
       "      <td>U</td>\n",
       "      <td>D</td>\n",
       "      <td>T</td>\n",
       "    </tr>\n",
       "    <tr>\n",
       "      <th>2</th>\n",
       "      <td>T</td>\n",
       "      <td>P</td>\n",
       "      <td>I</td>\n",
       "      <td>C</td>\n",
       "      <td>E</td>\n",
       "      <td>P</td>\n",
       "      <td>J</td>\n",
       "      <td>N</td>\n",
       "      <td>C</td>\n",
       "      <td>A</td>\n",
       "      <td>...</td>\n",
       "      <td>O</td>\n",
       "      <td>C</td>\n",
       "      <td>I</td>\n",
       "      <td>T</td>\n",
       "      <td>D</td>\n",
       "      <td>E</td>\n",
       "      <td>E</td>\n",
       "      <td>N</td>\n",
       "      <td>T</td>\n",
       "      <td>I</td>\n",
       "    </tr>\n",
       "    <tr>\n",
       "      <th>3</th>\n",
       "      <td>V</td>\n",
       "      <td>R</td>\n",
       "      <td>P</td>\n",
       "      <td>C</td>\n",
       "      <td>I</td>\n",
       "      <td>R</td>\n",
       "      <td>T</td>\n",
       "      <td>C</td>\n",
       "      <td>T</td>\n",
       "      <td>S</td>\n",
       "      <td>...</td>\n",
       "      <td>G</td>\n",
       "      <td>R</td>\n",
       "      <td>Z</td>\n",
       "      <td>O</td>\n",
       "      <td>L</td>\n",
       "      <td>I</td>\n",
       "      <td>M</td>\n",
       "      <td>I</td>\n",
       "      <td>I</td>\n",
       "      <td>O</td>\n",
       "    </tr>\n",
       "    <tr>\n",
       "      <th>4</th>\n",
       "      <td>T</td>\n",
       "      <td>R</td>\n",
       "      <td>I</td>\n",
       "      <td>D</td>\n",
       "      <td>P</td>\n",
       "      <td>S</td>\n",
       "      <td>N</td>\n",
       "      <td>Z</td>\n",
       "      <td>P</td>\n",
       "      <td>A</td>\n",
       "      <td>...</td>\n",
       "      <td>A</td>\n",
       "      <td>U</td>\n",
       "      <td>H</td>\n",
       "      <td>N</td>\n",
       "      <td>A</td>\n",
       "      <td>T</td>\n",
       "      <td>E</td>\n",
       "      <td>U</td>\n",
       "      <td>N</td>\n",
       "      <td>T</td>\n",
       "    </tr>\n",
       "    <tr>\n",
       "      <th>5</th>\n",
       "      <td>V</td>\n",
       "      <td>M</td>\n",
       "      <td>R</td>\n",
       "      <td>T</td>\n",
       "      <td>S</td>\n",
       "      <td>E</td>\n",
       "      <td>O</td>\n",
       "      <td>E</td>\n",
       "      <td>P</td>\n",
       "      <td>E</td>\n",
       "      <td>...</td>\n",
       "      <td>B</td>\n",
       "      <td>T</td>\n",
       "      <td>H</td>\n",
       "      <td>U</td>\n",
       "      <td>I</td>\n",
       "      <td>N</td>\n",
       "      <td>E</td>\n",
       "      <td>E</td>\n",
       "      <td>E</td>\n",
       "      <td>L</td>\n",
       "    </tr>\n",
       "  </tbody>\n",
       "</table>\n",
       "<p>5 rows × 1000 columns</p>\n",
       "</div>"
      ],
      "text/plain": [
       "  1    2    3    4    5    6    7    8    9    10    ... 991  992  993  994   \\\n",
       "1    U    Z    L    A    P    P    A    O    N    A  ...    P    R    R    E   \n",
       "2    T    P    I    C    E    P    J    N    C    A  ...    O    C    I    T   \n",
       "3    V    R    P    C    I    R    T    C    T    S  ...    G    R    Z    O   \n",
       "4    T    R    I    D    P    S    N    Z    P    A  ...    A    U    H    N   \n",
       "5    V    M    R    T    S    E    O    E    P    E  ...    B    T    H    U   \n",
       "\n",
       "  995  996  997  998  999  1000  \n",
       "1    D    T    E    U    D    T  \n",
       "2    D    E    E    N    T    I  \n",
       "3    L    I    M    I    I    O  \n",
       "4    A    T    E    U    N    T  \n",
       "5    I    N    E    E    E    L  \n",
       "\n",
       "[5 rows x 1000 columns]"
      ]
     },
     "execution_count": 97,
     "metadata": {},
     "output_type": "execute_result"
    }
   ],
   "source": [
    "dice = Game([alpha1, alpha2, alpha3, alpha4, alpha5])\n",
    "dice.play(1000)\n",
    "dice.show_play()"
   ]
  },
  {
   "cell_type": "markdown",
   "id": "3d4e3a33-c1ad-449b-a01a-6041b9bd65b9",
   "metadata": {},
   "source": [
    "I found about 2-3 words every 300 attempts. So roughly 10/1000 or 1%"
   ]
  },
  {
   "cell_type": "code",
   "execution_count": null,
   "id": "9b470e38-4bed-410b-9730-f5b84db17bcf",
   "metadata": {},
   "outputs": [],
   "source": []
  }
 ],
 "metadata": {
  "kernelspec": {
   "display_name": "Python 3 (ipykernel)",
   "language": "python",
   "name": "python3"
  },
  "language_info": {
   "codemirror_mode": {
    "name": "ipython",
    "version": 3
   },
   "file_extension": ".py",
   "mimetype": "text/x-python",
   "name": "python",
   "nbconvert_exporter": "python",
   "pygments_lexer": "ipython3",
   "version": "3.9.12"
  }
 },
 "nbformat": 4,
 "nbformat_minor": 5
}
